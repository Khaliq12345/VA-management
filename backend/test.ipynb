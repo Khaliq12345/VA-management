{
 "cells": [
  {
   "cell_type": "markdown",
   "id": "b501006d",
   "metadata": {},
   "source": [
    "# VA-Homepage\n",
    "\n",
    "\n",
    "def get_creator_info_from_airtable(table_id: str, base_id: str, limit: int = 20, offset: int = 0):\n",
    "    twenty_ig_usernames, twenty_creator_usernames = get_info_from_airtable()\n",
    "    return {\n",
    "        'ig_usernames': ig_usernames,\n",
    "        'creator_usernames': creator_usernames\n",
    "    }\n",
    "\n",
    "\n",
    "@app.get(\"/get_users\")\n",
    "def get_users(va_id: int, limit: int = 20, offset: int = 20, total_int: ):\n",
    "\n",
    "    # send requests to supabase and filter\n",
    "    # remove the ones that last_action is null or (last_action - today_date) > 30_DAY\n",
    "    # filter based on the creators of the va\n",
    "    scraped_users = get_from_supabase(limit, offset)\n",
    "\n",
    "    table_id, base_id = get_va_info()\n",
    "    twenty_ig_usernames, twenty_creator_usernames = get_creator_info_from_airtable(table_id, base_id, limit, offset)\n",
    "\n",
    "\n",
    "    return {\n",
    "        'creator_name': creator_name,\n",
    "        'ig_username': ig_username,\n",
    "        'scraped_user': scraped_user\n",
    "    }\n",
    "\n",
    "\n",
    "\n",
    "List all scraped users\n",
    "\n",
    "user_1 - summer_1 - summer - ig_url of scraped_url\n",
    "user_2 - summer_2 - summer - ig_url of scraped_url\n",
    "user_3 - summer_3 - summer - ig_url of scraped_url\n",
    "username/user_id - ig_username - creator_username\n",
    "\n",
    "\n",
    "user_1 - bae_1 - bae - ig_url of scraped_url\n",
    "user_2 - bae_2 - bae - ig_url of scraped_url\n",
    "user_3 - bae_3 - bae - ig_url of scraped_url"
   ]
  },
  {
   "cell_type": "markdown",
   "id": "46ae9dc6",
   "metadata": {},
   "source": [
    "# Euvince\n",
    "Task -> Airtable\n",
    "Goal -> Have an airtable service that returns ig_usernames and creator usernames from base_id, table_id"
   ]
  },
  {
   "cell_type": "markdown",
   "id": "3dfb5ae7",
   "metadata": {},
   "source": [
    "# Abdoul\n",
    "Task -> Homepage Endpoint\n",
    "Goal -> Have an endpoint that filters the data by date and by creator username\n",
    "return {\n",
    "    'creator_name': creator_name,\n",
    "    'ig_username': ig_username,\n",
    "    'scraped_user': scraped_user\n",
    "}"
   ]
  },
  {
   "cell_type": "markdown",
   "id": "3faec3f7",
   "metadata": {},
   "source": [
    "50 creator\n",
    "10 scraped_users\n",
    "\n",
    "\n",
    "for su in scraped_users:\n",
    "    "
   ]
  }
 ],
 "metadata": {
  "language_info": {
   "name": "python"
  }
 },
 "nbformat": 4,
 "nbformat_minor": 5
}
